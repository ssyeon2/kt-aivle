{
  "nbformat": 4,
  "nbformat_minor": 0,
  "metadata": {
    "colab": {
      "provenance": [],
      "authorship_tag": "ABX9TyNtxifJ7wzwssshC+/vRyr6",
      "include_colab_link": true
    },
    "kernelspec": {
      "name": "python3",
      "display_name": "Python 3"
    },
    "language_info": {
      "name": "python"
    }
  },
  "cells": [
    {
      "cell_type": "markdown",
      "metadata": {
        "id": "view-in-github",
        "colab_type": "text"
      },
      "source": [
        "<a href=\"https://colab.research.google.com/github/ssyeon2/kt-aivle/blob/main/DL(dropout%2C_BatchN).ipynb\" target=\"_parent\"><img src=\"https://colab.research.google.com/assets/colab-badge.svg\" alt=\"Open In Colab\"/></a>"
      ]
    },
    {
      "cell_type": "code",
      "execution_count": null,
      "metadata": {
        "colab": {
          "base_uri": "https://localhost:8080/"
        },
        "id": "YcI3gwDeEnMm",
        "outputId": "9361bfc6-937f-4ed7-c8e1-25d4c520ab23"
      },
      "outputs": [
        {
          "output_type": "stream",
          "name": "stdout",
          "text": [
            "--2023-03-13 13:20:00--  http://yaroslavvb.com/upload/notMNIST/notMNIST_small.mat\n",
            "Resolving yaroslavvb.com (yaroslavvb.com)... 129.121.4.193\n",
            "Connecting to yaroslavvb.com (yaroslavvb.com)|129.121.4.193|:80... connected.\n",
            "HTTP request sent, awaiting response... 200 OK\n",
            "Length: 117586976 (112M)\n",
            "Saving to: ‘notMNIST_small.mat.1’\n",
            "\n",
            "notMNIST_small.mat. 100%[===================>] 112.14M  46.8MB/s    in 2.4s    \n",
            "\n",
            "2023-03-13 13:20:02 (46.8 MB/s) - ‘notMNIST_small.mat.1’ saved [117586976/117586976]\n",
            "\n"
          ]
        }
      ],
      "source": [
        "!wget http://yaroslavvb.com/upload/notMNIST/notMNIST_small.mat"
      ]
    },
    {
      "cell_type": "code",
      "source": [
        "import numpy as np\n",
        "import matplotlib.pyplot as plt\n",
        "import pandas as pd\n",
        "from sklearn.model_selection import train_test_split\n",
        "from scipy import io"
      ],
      "metadata": {
        "id": "3IzXrYwjEn_b"
      },
      "execution_count": null,
      "outputs": []
    },
    {
      "cell_type": "code",
      "source": [
        "data = io.loadmat(\"notMNIST_small.mat\")"
      ],
      "metadata": {
        "id": "h0Khd2RsEut3"
      },
      "execution_count": null,
      "outputs": []
    },
    {
      "cell_type": "code",
      "source": [
        "x = data['images']\n",
        "y = data['labels']"
      ],
      "metadata": {
        "id": "Vb5cM0bzFa0b"
      },
      "execution_count": null,
      "outputs": []
    },
    {
      "cell_type": "markdown",
      "source": [
        "- reshape"
      ],
      "metadata": {
        "id": "iDOw5BdlGGlb"
      }
    },
    {
      "cell_type": "code",
      "source": [
        "x.shape, y.shape"
      ],
      "metadata": {
        "colab": {
          "base_uri": "https://localhost:8080/"
        },
        "id": "xpEB09dIGNoa",
        "outputId": "6a9428e0-b62d-496b-a274-13164c611ea0"
      },
      "execution_count": null,
      "outputs": [
        {
          "output_type": "execute_result",
          "data": {
            "text/plain": [
              "((28, 28, 18724), (18724,))"
            ]
          },
          "metadata": {},
          "execution_count": 5
        }
      ]
    },
    {
      "cell_type": "code",
      "source": [
        "X = np.transpose(x, (2, 0, 1))\n",
        "x = X.reshape(X.shape[0], 28, 28, 1)"
      ],
      "metadata": {
        "id": "-OAu4GNMGYOx"
      },
      "execution_count": null,
      "outputs": []
    },
    {
      "cell_type": "code",
      "source": [
        "x.shape, y.shape"
      ],
      "metadata": {
        "colab": {
          "base_uri": "https://localhost:8080/"
        },
        "id": "y7qFl1-wG_1l",
        "outputId": "9f771e05-3150-4803-a80e-7e95d66b5136"
      },
      "execution_count": null,
      "outputs": [
        {
          "output_type": "execute_result",
          "data": {
            "text/plain": [
              "((18724, 28, 28, 1), (18724,))"
            ]
          },
          "metadata": {},
          "execution_count": 7
        }
      ]
    },
    {
      "cell_type": "code",
      "source": [
        "train_x, test_x, train_y, test_y = train_test_split(x, y, test_size= 0.2)"
      ],
      "metadata": {
        "id": "_qkYWPrXHFE5"
      },
      "execution_count": null,
      "outputs": []
    },
    {
      "cell_type": "markdown",
      "source": [
        "- scaling"
      ],
      "metadata": {
        "id": "koibyKmQFv4r"
      }
    },
    {
      "cell_type": "code",
      "source": [
        "min_n, max_n = train_x.min(), train_x.max()\n",
        "train_x = (train_x - min_n) /(max_n - min_n)\n",
        "test_x = (test_x - min_n)/(max_n - min_n)"
      ],
      "metadata": {
        "id": "8II2I1PjHOnE"
      },
      "execution_count": null,
      "outputs": []
    },
    {
      "cell_type": "code",
      "source": [
        "train_x.min(), test_x.max()"
      ],
      "metadata": {
        "colab": {
          "base_uri": "https://localhost:8080/"
        },
        "id": "nQrRG_fYHjMt",
        "outputId": "da4546b8-44bf-48d8-b75f-cdd9be25a7d5"
      },
      "execution_count": null,
      "outputs": [
        {
          "output_type": "execute_result",
          "data": {
            "text/plain": [
              "(0.0, 1.0)"
            ]
          },
          "metadata": {},
          "execution_count": 10
        }
      ]
    },
    {
      "cell_type": "markdown",
      "source": [
        "- one-hot encoding"
      ],
      "metadata": {
        "id": "fYKGOlMAF_4t"
      }
    },
    {
      "cell_type": "code",
      "source": [
        "from tensorflow.keras.utils import to_categorical\n",
        "class_n = len(set(train_y))\n",
        "train_y = to_categorical(train_y, class_n)\n",
        "test_y = to_categorical(test_y, class_n)"
      ],
      "metadata": {
        "id": "0jFPYGCwGJ7G"
      },
      "execution_count": null,
      "outputs": []
    },
    {
      "cell_type": "code",
      "source": [
        "train_x.shape, train_y.shape, test_x.shape"
      ],
      "metadata": {
        "colab": {
          "base_uri": "https://localhost:8080/"
        },
        "id": "Oyi1oQ1OHppY",
        "outputId": "18875850-7059-4edb-8231-5596a8f19f03"
      },
      "execution_count": null,
      "outputs": [
        {
          "output_type": "execute_result",
          "data": {
            "text/plain": [
              "((14979, 28, 28, 1), (14979, 10), (3745, 28, 28, 1))"
            ]
          },
          "metadata": {},
          "execution_count": 13
        }
      ]
    },
    {
      "cell_type": "markdown",
      "source": [
        "#### Sequential"
      ],
      "metadata": {
        "id": "YJ__OGYiIB0S"
      }
    },
    {
      "cell_type": "code",
      "source": [
        "import tensorflow as tf\n",
        "from tensorflow import keras\n",
        "from keras.layers import Input, Dense, Dropout, Flatten, BatchNormalization\n",
        "from keras.models import Sequential, Model\n",
        "from keras.backend import clear_session"
      ],
      "metadata": {
        "id": "twd9cAL_IcPu"
      },
      "execution_count": null,
      "outputs": []
    },
    {
      "cell_type": "code",
      "source": [
        "# 세션 클리어\n",
        "clear_session()\n",
        "\n",
        "# 모델 선언\n",
        "model = Sequential()\n",
        "\n",
        "# 모델 블록 조립\n",
        "model.add(Input(shape=(28, 28, 1)))\n",
        "model.add(Flatten())\n",
        "model.add(Dense(256, activation = 'relu'))\n",
        "model.add(Dense(256, activation = 'relu'))\n",
        "model.add(BatchNormalization())\n",
        "model.add(Dropout(0.2))\n",
        "\n",
        "model.add(Dense(64, activation = 'relu'))\n",
        "model.add(Dense(64, activation = 'relu'))\n",
        "model.add(BatchNormalization())\n",
        "model.add(Dropout(0.2))\n",
        "\n",
        "model.add(Dense(class_n, activation = 'softmax'))\n",
        "\n",
        "# 컴파일\n",
        "model.compile(loss = keras.losses.categorical_crossentropy, metrics = ['accuracy'],\n",
        "              optimizer = 'adam')"
      ],
      "metadata": {
        "id": "tLnZFJeZIYIP"
      },
      "execution_count": null,
      "outputs": []
    },
    {
      "cell_type": "code",
      "source": [
        "from tensorflow.keras.callbacks import EarlyStopping\n",
        "es = EarlyStopping(monitor = 'val_loss',\n",
        "                   min_delta = 0,\n",
        "                   patience = 5,\n",
        "                   verbose = 1)"
      ],
      "metadata": {
        "id": "tek9SN9JJuLf"
      },
      "execution_count": null,
      "outputs": []
    },
    {
      "cell_type": "code",
      "source": [
        "model.fit(train_x, train_y, epochs=10000, verbose=1,\n",
        "          callbacks = [es], validation_split = 0.2)"
      ],
      "metadata": {
        "colab": {
          "base_uri": "https://localhost:8080/"
        },
        "id": "IRFs-sV8J1Zq",
        "outputId": "0e9297c3-4134-473a-e96c-6b747726dc4b"
      },
      "execution_count": null,
      "outputs": [
        {
          "output_type": "stream",
          "name": "stdout",
          "text": [
            "Epoch 1/10000\n",
            "375/375 [==============================] - 4s 6ms/step - loss: 0.6556 - accuracy: 0.8139 - val_loss: 0.4033 - val_accuracy: 0.8822\n",
            "Epoch 2/10000\n",
            "375/375 [==============================] - 2s 6ms/step - loss: 0.4113 - accuracy: 0.8774 - val_loss: 0.3981 - val_accuracy: 0.8842\n",
            "Epoch 3/10000\n",
            "375/375 [==============================] - 2s 5ms/step - loss: 0.3663 - accuracy: 0.8935 - val_loss: 0.3482 - val_accuracy: 0.8972\n",
            "Epoch 4/10000\n",
            "375/375 [==============================] - 2s 6ms/step - loss: 0.3240 - accuracy: 0.9059 - val_loss: 0.3590 - val_accuracy: 0.8992\n",
            "Epoch 5/10000\n",
            "375/375 [==============================] - 2s 6ms/step - loss: 0.2927 - accuracy: 0.9150 - val_loss: 0.3372 - val_accuracy: 0.9052\n",
            "Epoch 6/10000\n",
            "375/375 [==============================] - 2s 5ms/step - loss: 0.2672 - accuracy: 0.9175 - val_loss: 0.3505 - val_accuracy: 0.8962\n",
            "Epoch 7/10000\n",
            "375/375 [==============================] - 2s 5ms/step - loss: 0.2511 - accuracy: 0.9244 - val_loss: 0.3738 - val_accuracy: 0.8875\n",
            "Epoch 8/10000\n",
            "375/375 [==============================] - 2s 5ms/step - loss: 0.2270 - accuracy: 0.9340 - val_loss: 0.3003 - val_accuracy: 0.9082\n",
            "Epoch 9/10000\n",
            "375/375 [==============================] - 2s 6ms/step - loss: 0.2245 - accuracy: 0.9342 - val_loss: 0.3715 - val_accuracy: 0.8985\n",
            "Epoch 10/10000\n",
            "375/375 [==============================] - 3s 7ms/step - loss: 0.1915 - accuracy: 0.9407 - val_loss: 0.3045 - val_accuracy: 0.9095\n",
            "Epoch 11/10000\n",
            "375/375 [==============================] - 2s 5ms/step - loss: 0.1866 - accuracy: 0.9429 - val_loss: 0.3179 - val_accuracy: 0.9095\n",
            "Epoch 12/10000\n",
            "375/375 [==============================] - 2s 5ms/step - loss: 0.1767 - accuracy: 0.9460 - val_loss: 0.3416 - val_accuracy: 0.9059\n",
            "Epoch 13/10000\n",
            "375/375 [==============================] - 2s 6ms/step - loss: 0.1526 - accuracy: 0.9548 - val_loss: 0.3454 - val_accuracy: 0.9115\n",
            "Epoch 13: early stopping\n"
          ]
        },
        {
          "output_type": "execute_result",
          "data": {
            "text/plain": [
              "<keras.callbacks.History at 0x7f14423c7550>"
            ]
          },
          "metadata": {},
          "execution_count": 23
        }
      ]
    },
    {
      "cell_type": "code",
      "source": [
        "model.evaluate(train_x, train_y)\n",
        "model.evaluate(test_x, test_y)"
      ],
      "metadata": {
        "colab": {
          "base_uri": "https://localhost:8080/"
        },
        "id": "U_HcoURlKKZp",
        "outputId": "ad9aa97d-94e6-4811-ccf2-2bedbc5e9db5"
      },
      "execution_count": null,
      "outputs": [
        {
          "output_type": "stream",
          "name": "stdout",
          "text": [
            "469/469 [==============================] - 1s 2ms/step - loss: 0.1617 - accuracy: 0.9531\n",
            "118/118 [==============================] - 0s 2ms/step - loss: 0.3804 - accuracy: 0.9055\n"
          ]
        },
        {
          "output_type": "execute_result",
          "data": {
            "text/plain": [
              "[0.380408376455307, 0.9054739475250244]"
            ]
          },
          "metadata": {},
          "execution_count": 25
        }
      ]
    },
    {
      "cell_type": "markdown",
      "source": [
        "#### Functional"
      ],
      "metadata": {
        "id": "m649uRRFKSRK"
      }
    },
    {
      "cell_type": "code",
      "source": [
        "# 클리어 세션\n",
        "clear_session()\n",
        "\n",
        "# 모델 엮기\n",
        "il = Input(shape=(28, 28, 1))\n",
        "fl = Flatten()(il)\n",
        "\n",
        "hl = Dense(128, activation = 'relu')(fl)\n",
        "hl = Dense(128, activation = 'relu')(hl)\n",
        "bl = BatchNormalization()(hl)\n",
        "dl = Dropout(0.2)(bl)\n",
        "\n",
        "hl = Dense(64, activation = 'relu')(dl)\n",
        "hl = Dense(64, activation = 'relu')(hl)\n",
        "bl = BatchNormalization()(hl)\n",
        "dl = Dropout(0.2)(bl)\n",
        "\n",
        "ol = Dense(class_n, activation = 'softmax')(dl)\n",
        "\n",
        "# 모델 input, output 정의하기\n",
        "model = Model(il, ol)\n",
        "\n",
        "# 모델 컴파일\n",
        "model.compile(loss = keras.losses.categorical_crossentropy, metrics = ['accuracy'],\n",
        "              optimizer = 'adam')"
      ],
      "metadata": {
        "id": "XHuFhQigKZD8"
      },
      "execution_count": null,
      "outputs": []
    },
    {
      "cell_type": "code",
      "source": [
        "model.fit(train_x, train_y, epochs=10000, verbose=1,\n",
        "          callbacks = [es], validation_split = 0.2)"
      ],
      "metadata": {
        "colab": {
          "base_uri": "https://localhost:8080/"
        },
        "id": "Ue2PHc3pMcaO",
        "outputId": "ec720d53-9830-4e8c-d6cc-ed17611f248c"
      },
      "execution_count": null,
      "outputs": [
        {
          "output_type": "stream",
          "name": "stdout",
          "text": [
            "Epoch 1/10000\n",
            "375/375 [==============================] - 3s 4ms/step - loss: 0.7243 - accuracy: 0.7824 - val_loss: 0.4493 - val_accuracy: 0.8675\n",
            "Epoch 2/10000\n",
            "375/375 [==============================] - 1s 4ms/step - loss: 0.4437 - accuracy: 0.8706 - val_loss: 0.3972 - val_accuracy: 0.8815\n",
            "Epoch 3/10000\n",
            "375/375 [==============================] - 1s 3ms/step - loss: 0.3722 - accuracy: 0.8911 - val_loss: 0.3579 - val_accuracy: 0.8995\n",
            "Epoch 4/10000\n",
            "375/375 [==============================] - 1s 4ms/step - loss: 0.3372 - accuracy: 0.9015 - val_loss: 0.3499 - val_accuracy: 0.8982\n",
            "Epoch 5/10000\n",
            "375/375 [==============================] - 2s 5ms/step - loss: 0.3114 - accuracy: 0.9075 - val_loss: 0.3683 - val_accuracy: 0.8945\n",
            "Epoch 6/10000\n",
            "375/375 [==============================] - 1s 4ms/step - loss: 0.2857 - accuracy: 0.9150 - val_loss: 0.3449 - val_accuracy: 0.8985\n",
            "Epoch 7/10000\n",
            "375/375 [==============================] - 1s 4ms/step - loss: 0.2676 - accuracy: 0.9216 - val_loss: 0.3058 - val_accuracy: 0.9102\n",
            "Epoch 8/10000\n",
            "375/375 [==============================] - 1s 4ms/step - loss: 0.2556 - accuracy: 0.9257 - val_loss: 0.3377 - val_accuracy: 0.9009\n",
            "Epoch 9/10000\n",
            "375/375 [==============================] - 1s 4ms/step - loss: 0.2356 - accuracy: 0.9281 - val_loss: 0.3344 - val_accuracy: 0.9082\n",
            "Epoch 10/10000\n",
            "375/375 [==============================] - 1s 4ms/step - loss: 0.2112 - accuracy: 0.9354 - val_loss: 0.3661 - val_accuracy: 0.9002\n",
            "Epoch 11/10000\n",
            "375/375 [==============================] - 1s 4ms/step - loss: 0.2120 - accuracy: 0.9356 - val_loss: 0.3643 - val_accuracy: 0.9042\n",
            "Epoch 12/10000\n",
            "375/375 [==============================] - 1s 4ms/step - loss: 0.1922 - accuracy: 0.9406 - val_loss: 0.3282 - val_accuracy: 0.9159\n",
            "Epoch 12: early stopping\n"
          ]
        },
        {
          "output_type": "execute_result",
          "data": {
            "text/plain": [
              "<keras.callbacks.History at 0x7f1447f70820>"
            ]
          },
          "metadata": {},
          "execution_count": 33
        }
      ]
    },
    {
      "cell_type": "code",
      "source": [
        "model.evaluate(train_x, train_y)\n",
        "model.evaluate(test_x, test_y)"
      ],
      "metadata": {
        "colab": {
          "base_uri": "https://localhost:8080/"
        },
        "id": "t18oQtLmMz1Y",
        "outputId": "73d40ea5-9dec-4f79-ed0e-dc335e308135"
      },
      "execution_count": null,
      "outputs": [
        {
          "output_type": "stream",
          "name": "stdout",
          "text": [
            "469/469 [==============================] - 1s 1ms/step - loss: 0.1593 - accuracy: 0.9540\n",
            "118/118 [==============================] - 0s 2ms/step - loss: 0.3281 - accuracy: 0.9087\n"
          ]
        },
        {
          "output_type": "execute_result",
          "data": {
            "text/plain": [
              "[0.32807907462120056, 0.9086782336235046]"
            ]
          },
          "metadata": {},
          "execution_count": 34
        }
      ]
    },
    {
      "cell_type": "code",
      "source": [],
      "metadata": {
        "id": "6tl_NSZcM1Vp"
      },
      "execution_count": null,
      "outputs": []
    }
  ]
}