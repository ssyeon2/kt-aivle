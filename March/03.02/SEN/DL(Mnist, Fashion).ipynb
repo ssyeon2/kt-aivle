{
  "nbformat": 4,
  "nbformat_minor": 0,
  "metadata": {
    "colab": {
      "provenance": [],
      "authorship_tag": "ABX9TyNR0Yd7piXxvMhLVXJDDo4R",
      "include_colab_link": true
    },
    "kernelspec": {
      "name": "python3",
      "display_name": "Python 3"
    },
    "language_info": {
      "name": "python"
    },
    "accelerator": "GPU",
    "gpuClass": "standard"
  },
  "cells": [
    {
      "cell_type": "markdown",
      "metadata": {
        "id": "view-in-github",
        "colab_type": "text"
      },
      "source": [
        "<a href=\"https://colab.research.google.com/github/ssyeon2/kt-aivle/blob/main/March/03.02/SEN/DL(Mnist%2C%20Fashion)\" target=\"_parent\"><img src=\"https://colab.research.google.com/assets/colab-badge.svg\" alt=\"Open In Colab\"/></a>"
      ]
    },
    {
      "cell_type": "markdown",
      "source": [
        "# Mnist"
      ],
      "metadata": {
        "id": "9jb3uW1aGL8_"
      }
    },
    {
      "cell_type": "code",
      "source": [
        "import tensorflow as tf\n",
        "from tensorflow import keras\n",
        "\n",
        "import numpy as np\n",
        "import pandas as np\n",
        "\n",
        "import matplotlib.pyplot as plt\n",
        "\n",
        "import random as rd\n",
        "from sklearn.metrics import accuracy_score"
      ],
      "metadata": {
        "id": "W0I9dm8aHx9f"
      },
      "execution_count": null,
      "outputs": []
    },
    {
      "cell_type": "code",
      "source": [
        "(train_x, train_y), (test_x, test_y) = keras.datasets.mnist.load_data()"
      ],
      "metadata": {
        "colab": {
          "base_uri": "https://localhost:8080/"
        },
        "id": "umPoCjW6H8fR",
        "outputId": "be15172f-2845-47e3-f165-648f49202416"
      },
      "execution_count": null,
      "outputs": [
        {
          "output_type": "stream",
          "name": "stdout",
          "text": [
            "Downloading data from https://storage.googleapis.com/tensorflow/tf-keras-datasets/mnist.npz\n",
            "11490434/11490434 [==============================] - 2s 0us/step\n"
          ]
        }
      ]
    },
    {
      "cell_type": "code",
      "source": [
        "train_x.shape, train_y.shape, test_x.shape, test_y.shape"
      ],
      "metadata": {
        "colab": {
          "base_uri": "https://localhost:8080/"
        },
        "id": "Q8ARqggyIP_J",
        "outputId": "1f80a831-231c-48c7-da24-de82c7a263cf"
      },
      "execution_count": null,
      "outputs": [
        {
          "output_type": "execute_result",
          "data": {
            "text/plain": [
              "((60000, 28, 28), (60000,), (10000, 28, 28), (10000,))"
            ]
          },
          "metadata": {},
          "execution_count": 3
        }
      ]
    },
    {
      "cell_type": "code",
      "source": [
        "id = rd.randrange(0, 60000)\n",
        "\n",
        "print(f'id = {id}')\n",
        "print(f'다음 그림은 숫자 {train_y[id]} 입니다.')\n",
        "\n",
        "plt.imshow(train_x[id], cmap = 'gray')    # imshow는 array에 색을 채워라\n",
        "plt.show()"
      ],
      "metadata": {
        "colab": {
          "base_uri": "https://localhost:8080/",
          "height": 301
        },
        "id": "6QxMs4ngIa53",
        "outputId": "31e26ba5-6c39-4f50-8200-bf75228e09cd"
      },
      "execution_count": null,
      "outputs": [
        {
          "output_type": "stream",
          "name": "stdout",
          "text": [
            "id = 53822\n",
            "다음 그림은 숫자 5 입니다.\n"
          ]
        },
        {
          "output_type": "display_data",
          "data": {
            "text/plain": [
              "<Figure size 432x288 with 1 Axes>"
            ],
            "image/png": "[encoded data removed]"
          },
          "metadata": {
            "needs_background": "light"
          }
        }
      ]
    },
    {
      "cell_type": "markdown",
      "source": [
        "## 데이터 전처리"
      ],
      "metadata": {
        "id": "xVRhtx8FKAFa"
      }
    },
    {
      "cell_type": "markdown",
      "source": [
        "* reshape"
      ],
      "metadata": {
        "id": "PorI4in4KHcR"
      }
    },
    {
      "cell_type": "code",
      "source": [
        "train_x.shape"
      ],
      "metadata": {
        "colab": {
          "base_uri": "https://localhost:8080/"
        },
        "id": "LdivonNsKJRO",
        "outputId": "1a440d33-2a81-45d3-ba7a-01386a1fa56b"
      },
      "execution_count": null,
      "outputs": [
        {
          "output_type": "execute_result",
          "data": {
            "text/plain": [
              "(60000, 28, 28)"
            ]
          },
          "metadata": {},
          "execution_count": 5
        }
      ]
    },
    {
      "cell_type": "code",
      "source": [
        "train_x = train_x.reshape(train_x.shape[0], -1)\n",
        "test_x = test_x.reshape(test_x.shape[0], -1)"
      ],
      "metadata": {
        "id": "gx4Wjv0YKLP3"
      },
      "execution_count": null,
      "outputs": []
    },
    {
      "cell_type": "markdown",
      "source": [
        "* min-max scaling"
      ],
      "metadata": {
        "id": "Z6hVQEwfKQHm"
      }
    },
    {
      "cell_type": "code",
      "source": [
        "min_n = train_x.min()\n",
        "max_n = test_x.max()\n",
        "\n",
        "test_x = (test_x - min_n) / (max_n - min_n)\n",
        "train_x = (train_x - min_n) / (max_n - min_n)"
      ],
      "metadata": {
        "id": "aDVHR8TOKiDX"
      },
      "execution_count": null,
      "outputs": []
    },
    {
      "cell_type": "code",
      "source": [
        "train_x.min(), test_x.max()"
      ],
      "metadata": {
        "colab": {
          "base_uri": "https://localhost:8080/"
        },
        "id": "poEu0TqCKz_q",
        "outputId": "2dc29b8f-8bab-4306-e17a-edd58599eaa3"
      },
      "execution_count": null,
      "outputs": [
        {
          "output_type": "execute_result",
          "data": {
            "text/plain": [
              "(0.0, 1.0)"
            ]
          },
          "metadata": {},
          "execution_count": 8
        }
      ]
    },
    {
      "cell_type": "markdown",
      "source": [
        "* One-Hot Encoding"
      ],
      "metadata": {
        "id": "LW0gkxXYK5Zw"
      }
    },
    {
      "cell_type": "code",
      "source": [
        "from tensorflow.keras.utils import to_categorical"
      ],
      "metadata": {
        "id": "MtJKn49IK859"
      },
      "execution_count": null,
      "outputs": []
    },
    {
      "cell_type": "code",
      "source": [
        "class_n = len(set(train_y))"
      ],
      "metadata": {
        "id": "SYu7yL7uLCse"
      },
      "execution_count": null,
      "outputs": []
    },
    {
      "cell_type": "code",
      "source": [
        "train_y = to_categorical(train_y , class_n)\n",
        "test_y = to_categorical(test_y , class_n)"
      ],
      "metadata": {
        "id": "p5ci7JpxLELg"
      },
      "execution_count": null,
      "outputs": []
    },
    {
      "cell_type": "code",
      "source": [
        "train_x.shape, train_y.shape, test_x.shape"
      ],
      "metadata": {
        "id": "SWVyqu8ILLp2"
      },
      "execution_count": null,
      "outputs": []
    },
    {
      "cell_type": "markdown",
      "source": [
        "### 모델링\n",
        "* Sequential()\n",
        "* hidden layer 2개 이상"
      ],
      "metadata": {
        "id": "JkFd53PMLPz4"
      }
    },
    {
      "cell_type": "code",
      "source": [
        "# 세션 클리어\n",
        "keras.backend.clear_session()\n",
        "\n",
        "# 모델 선언\n",
        "model = keras.models.Sequential()\n",
        "\n",
        "# 모델 블록 조립\n",
        "model.add(keras.layers.Input(shape=(train_x.shape[1],)))\n",
        "model.add(keras.layers.Dense(256, 'relu'))\n",
        "model.add(keras.layers.Dense(64, 'relu'))\n",
        "model.add(keras.layers.Dense(16, 'relu'))\n",
        "model.add(keras.layers.Dense(class_n, 'softmax'))\n",
        "\n",
        "# model 컴파일\n",
        "model.compile(loss = keras.losses.categorical_crossentropy, metrics = ['accuracy'],\n",
        "              optimizer = 'adam')"
      ],
      "metadata": {
        "id": "P6on9lbTLa30"
      },
      "execution_count": null,
      "outputs": []
    },
    {
      "cell_type": "code",
      "source": [
        "from tensorflow.keras.callbacks import EarlyStopping\n",
        "es = EarlyStopping(monitor = 'val_loss',\n",
        "                   patience = 5,\n",
        "                   min_delta = 0,\n",
        "                   verbose = 1,\n",
        "                   restore_best_weights = True)"
      ],
      "metadata": {
        "id": "qKOReYBTMRbk"
      },
      "execution_count": null,
      "outputs": []
    },
    {
      "cell_type": "code",
      "source": [
        "model.fit(train_x, train_y, epochs = 1000, verbose = 1,\n",
        "              callbacks = [es], validation_split = 0.2)"
      ],
      "metadata": {
        "id": "0cwXhTsuMaDk"
      },
      "execution_count": null,
      "outputs": []
    },
    {
      "cell_type": "code",
      "source": [
        "model.evaluate(test_x, test_y)"
      ],
      "metadata": {
        "id": "9XNNRkFQMvOD"
      },
      "execution_count": null,
      "outputs": []
    },
    {
      "cell_type": "code",
      "source": [
        "pred_train = model.predict(train_x)\n",
        "pred_test = model.predict(test_x)\n",
        "\n",
        "single_pred_train = pred_train.argmax(axis=1)\n",
        "single_pred_test = pred_test.argmax(axis=1)\n",
        "\n",
        "logi_train_accuracy = accuracy_score(train_y.argmax(axis=1), single_pred_train)\n",
        "logi_test_accuracy = accuracy_score(test_y.argmax(axis=1), single_pred_test)\n",
        "\n",
        "print('트레이닝 정확도 : {:.2f}%'.format(logi_train_accuracy*100))\n",
        "print('테스트 정확도 : {:.2f}%'.format(logi_test_accuracy*100))"
      ],
      "metadata": {
        "id": "A3pOayaWNIE2"
      },
      "execution_count": null,
      "outputs": []
    },
    {
      "cell_type": "markdown",
      "source": [
        "## Fashion Mnist"
      ],
      "metadata": {
        "id": "Wcn65GymNlQh"
      }
    },
    {
      "cell_type": "code",
      "source": [
        "(x_train, y_train),(x_test, y_test) = keras.datasets.fashion_mnist.load_data()"
      ],
      "metadata": {
        "id": "iEw1ECBBQLpd"
      },
      "execution_count": null,
      "outputs": []
    },
    {
      "cell_type": "code",
      "source": [
        "x_train.shape, y_train.shape, x_test.shape"
      ],
      "metadata": {
        "id": "05IgSCawQhaP"
      },
      "execution_count": null,
      "outputs": []
    },
    {
      "cell_type": "markdown",
      "source": [
        "* min-max scaling"
      ],
      "metadata": {
        "id": "wUG7TNbGQ82q"
      }
    },
    {
      "cell_type": "code",
      "source": [
        "min_n = x_train.min()\n",
        "max_n = x_test.max()\n",
        "\n",
        "x_train = (x_train - min_n)/ (max_n - min_n)\n",
        "x_test = (x_test-min_n)/(max_n - min_n)"
      ],
      "metadata": {
        "id": "DHSAiYKlQqx-"
      },
      "execution_count": null,
      "outputs": []
    },
    {
      "cell_type": "code",
      "source": [
        "x_train.min(), x_test.max()"
      ],
      "metadata": {
        "id": "2doqH9OaQ7th"
      },
      "execution_count": null,
      "outputs": []
    },
    {
      "cell_type": "markdown",
      "source": [
        "* One-Hot encoding"
      ],
      "metadata": {
        "id": "AwhZNZCtRB3D"
      }
    },
    {
      "cell_type": "code",
      "source": [
        "class_n = len(set(y_train))"
      ],
      "metadata": {
        "id": "cYMFQGcrSX86"
      },
      "execution_count": null,
      "outputs": []
    },
    {
      "cell_type": "code",
      "source": [
        "from tensorflow.keras.utils import to_categorical\n",
        "\n",
        "y_train = to_categorical(y_train, class_n)\n",
        "y_test = to_categorical(y_test, class_n)"
      ],
      "metadata": {
        "id": "mj71keztRJ2p"
      },
      "execution_count": null,
      "outputs": []
    },
    {
      "cell_type": "code",
      "source": [
        "x_train.shape, x_test.shape, y_train.shape"
      ],
      "metadata": {
        "id": "zGUBo71BRTQ1"
      },
      "execution_count": null,
      "outputs": []
    },
    {
      "cell_type": "markdown",
      "source": [
        "#### 모델링\n",
        "* Functional()\n",
        "* Flatten()"
      ],
      "metadata": {
        "id": "oPMcIV2jRUus"
      }
    },
    {
      "cell_type": "code",
      "source": [
        "# 세션 클리어\n",
        "keras.backend.clear_session()\n",
        "\n",
        "# 모델 layer 엮기\n",
        "il = keras.layers.Input(shape=(28,28))\n",
        "fl = keras.layers.Flatten()(il)\n",
        "hl = keras.layers.Dense(256, 'relu')(fl)\n",
        "hl = keras.layers.Dense(128, 'relu')(hl)\n",
        "hl = keras.layers.Dense(32, 'relu')(hl)\n",
        "ol = keras.layers.Dense(class_n, 'softmax')(hl)\n",
        "\n",
        "\n",
        "# 모델 input, output 지정\n",
        "model = keras.models.Model(il, ol)\n",
        "\n",
        "# 모델 컴파일\n",
        "model.compile(loss = keras.losses.categorical_crossentropy, metrics = ['accuracy'],\n",
        "              optimizer = 'adam')\n",
        "\n",
        "# 모델 요약\n",
        "model.summary()"
      ],
      "metadata": {
        "id": "6oOSPYNeRctx"
      },
      "execution_count": null,
      "outputs": []
    },
    {
      "cell_type": "code",
      "source": [
        "from tensorflow.keras.callbacks import EarlyStopping\n",
        "es = EarlyStopping(monitor = 'val_loss',\n",
        "                   patience = 5,\n",
        "                   min_delta = 0,\n",
        "                   verbose = 1,\n",
        "                   restore_best_weights = True)"
      ],
      "metadata": {
        "id": "o78WytxhSxuZ"
      },
      "execution_count": null,
      "outputs": []
    },
    {
      "cell_type": "code",
      "source": [
        "model.fit(x_train, y_train, verbose = 1, epochs=1000,\n",
        "          validation_split = 0.2, callbacks = [es])"
      ],
      "metadata": {
        "id": "lgAlkfoETBPA"
      },
      "execution_count": null,
      "outputs": []
    },
    {
      "cell_type": "code",
      "source": [
        "print(model.evaluate(x_train, y_train))\n",
        "print(model.evaluate(x_test, y_test))"
      ],
      "metadata": {
        "id": "-1aCsN2eTNnM"
      },
      "execution_count": null,
      "outputs": []
    },
    {
      "cell_type": "code",
      "source": [
        "from sklearn.metrics import accuracy_score\n",
        "pred_test = model.predict(x_test).argmax(axis = 1)\n",
        "pred_train = model.predict(x_train).argmax(axis=1)\n",
        "\n",
        "\n",
        "print('train 정확도 : {:2f}%'.format(accuracy_score(y_train.argmax(axis = 1), pred_train)))\n",
        "print('test 정확도 : {:2f}%'.format(accuracy_score(y_test.argmax(axis=1), pred_test)))"
      ],
      "metadata": {
        "id": "2XQIpeUBTViW"
      },
      "execution_count": null,
      "outputs": []
    }
  ]
}
