{
  "nbformat": 4,
  "nbformat_minor": 0,
  "metadata": {
    "colab": {
      "provenance": [],
      "authorship_tag": "ABX9TyPlLDqGEB7ZHzRV71ES/tVo",
      "include_colab_link": true
    },
    "kernelspec": {
      "name": "python3",
      "display_name": "Python 3"
    },
    "language_info": {
      "name": "python"
    },
    "accelerator": "GPU",
    "gpuClass": "premium"
  },
  "cells": [
    {
      "cell_type": "markdown",
      "metadata": {
        "id": "view-in-github",
        "colab_type": "text"
      },
      "source": [
        "<a href=\"https://colab.research.google.com/github/ssyeon2/kt-aivle/blob/main/March/03.13/SEN/CNN.ipynb\" target=\"_parent\"><img src=\"https://colab.research.google.com/assets/colab-badge.svg\" alt=\"Open In Colab\"/></a>"
      ]
    },
    {
      "cell_type": "code",
      "execution_count": 1,
      "metadata": {
        "id": "x893vYoUdJmP"
      },
      "outputs": [],
      "source": [
        "'''\n",
        "라이브러리들을 불러오자.\n",
        "'''\n",
        "import numpy as np\n",
        "import pandas as pd\n",
        "import matplotlib.pyplot as plt\n",
        "\n",
        "import random as rd\n",
        "from sklearn.metrics import accuracy_score\n",
        "\n",
        "import tensorflow as tf\n",
        "from tensorflow import keras"
      ]
    },
    {
      "cell_type": "code",
      "source": [
        "(train_x, train_y), (test_x, test_y) = keras.datasets.fashion_mnist.load_data()"
      ],
      "metadata": {
        "id": "2xjgoPFJdP19",
        "colab": {
          "base_uri": "https://localhost:8080/"
        },
        "outputId": "85a03452-d2f9-4ab9-b2ce-fddf84f4cbee"
      },
      "execution_count": 2,
      "outputs": [
        {
          "output_type": "stream",
          "name": "stdout",
          "text": [
            "Downloading data from https://storage.googleapis.com/tensorflow/tf-keras-datasets/train-labels-idx1-ubyte.gz\n",
            "29515/29515 [==============================] - 0s 0us/step\n",
            "Downloading data from https://storage.googleapis.com/tensorflow/tf-keras-datasets/train-images-idx3-ubyte.gz\n",
            "26421880/26421880 [==============================] - 1s 0us/step\n",
            "Downloading data from https://storage.googleapis.com/tensorflow/tf-keras-datasets/t10k-labels-idx1-ubyte.gz\n",
            "5148/5148 [==============================] - 0s 0us/step\n",
            "Downloading data from https://storage.googleapis.com/tensorflow/tf-keras-datasets/t10k-images-idx3-ubyte.gz\n",
            "4422102/4422102 [==============================] - 0s 0us/step\n"
          ]
        }
      ]
    },
    {
      "cell_type": "markdown",
      "source": [
        "- MinMaxScaling"
      ],
      "metadata": {
        "id": "-HOcuJ19dcxU"
      }
    },
    {
      "cell_type": "code",
      "source": [
        "print(train_x.shape, train_y.shape, test_x.shape, test_y.shape)"
      ],
      "metadata": {
        "colab": {
          "base_uri": "https://localhost:8080/"
        },
        "id": "BMKY0PWydTFW",
        "outputId": "1b35fa16-f2d3-41ae-ba58-4ab137578b55"
      },
      "execution_count": 3,
      "outputs": [
        {
          "output_type": "stream",
          "name": "stdout",
          "text": [
            "(60000, 28, 28) (60000,) (10000, 28, 28) (10000,)\n"
          ]
        }
      ]
    },
    {
      "cell_type": "code",
      "source": [
        "min_n, max_n = train_x.min(), train_x.max()\n",
        "train_x = (train_x - min_n)/(max_n - min_n)\n",
        "test_x = (test_x - min_n)/(max_n - min_n)"
      ],
      "metadata": {
        "id": "8n507RgsdVYa"
      },
      "execution_count": 4,
      "outputs": []
    },
    {
      "cell_type": "code",
      "source": [
        "train_x.shape, test_x.shape"
      ],
      "metadata": {
        "colab": {
          "base_uri": "https://localhost:8080/"
        },
        "id": "eISfiNWgdYpN",
        "outputId": "b20f91d6-d0f3-4d56-f1b4-c47f743ac250"
      },
      "execution_count": 5,
      "outputs": [
        {
          "output_type": "execute_result",
          "data": {
            "text/plain": [
              "((60000, 28, 28), (10000, 28, 28))"
            ]
          },
          "metadata": {},
          "execution_count": 5
        }
      ]
    },
    {
      "cell_type": "markdown",
      "source": [
        "- Reshape"
      ],
      "metadata": {
        "id": "hmdCWNgHdo6E"
      }
    },
    {
      "cell_type": "code",
      "source": [
        "train_x = train_x.reshape(train_x.shape[0], train_x.shape[1], train_x.shape[2], 1)\n",
        "test_x = test_x.reshape(test_x.shape[0], test_x.shape[1], test_x.shape[2], 1)\n",
        "\n",
        "print(train_x.shape, test_x.shape)"
      ],
      "metadata": {
        "colab": {
          "base_uri": "https://localhost:8080/"
        },
        "id": "LaQuXHqTdasq",
        "outputId": "784a0ece-b1d6-4844-aad8-044c3aae6479"
      },
      "execution_count": 6,
      "outputs": [
        {
          "output_type": "stream",
          "name": "stdout",
          "text": [
            "(60000, 28, 28, 1) (10000, 28, 28, 1)\n"
          ]
        }
      ]
    },
    {
      "cell_type": "markdown",
      "source": [
        "- to_categorical"
      ],
      "metadata": {
        "id": "P8HCyCZqdhJl"
      }
    },
    {
      "cell_type": "code",
      "source": [
        "from tensorflow.keras.utils import to_categorical\n",
        "len_n = len(set(train_y))\n",
        "train_y = to_categorical(train_y, len_n)\n",
        "test_y = to_categorical(test_y, len_n)"
      ],
      "metadata": {
        "id": "BdGU9NUydvis"
      },
      "execution_count": 7,
      "outputs": []
    },
    {
      "cell_type": "code",
      "source": [
        "from tensorflow.keras.backend import clear_session\n",
        "from tensorflow.keras.layers import Input, Dense, Flatten, Conv2D, MaxPool2D, BatchNormalization, Dropout\n",
        "from tensorflow.keras.models import Sequential, Model"
      ],
      "metadata": {
        "id": "v7wZs61Jd1Uy"
      },
      "execution_count": 16,
      "outputs": []
    },
    {
      "cell_type": "markdown",
      "source": [
        "--------------------------------------------------------------\n",
        "1. 인풋 레이어\n",
        "2. Convolution : 필터수 32개, 사이즈(3, 3), same padding\n",
        "3. BatchNormalization\n",
        "4. Convolution : 필터수 32개, 사이즈(3, 3), same padding\n",
        "5. BatchNormalization\n",
        "6. MaxPooling : 사이즈(2,2) 스트라이드(2,2)\n",
        "7. DropOut : 25% 비활성화\n",
        "8. Convolution : 필터수 64개, 사이즈(3, 3), same padding\n",
        "9. BatchNormalization\n",
        "10. Convolution : 필터수 64개, 사이즈(3, 3), same padding\n",
        "11. BatchNormalization\n",
        "12. MaxPooling : 사이즈(2,2) 스트라이드(2,2)\n",
        "13. DropOut : 25% 비활성화\n",
        "14. Flatten\n",
        "15. Fully Connected Layer : 노드 512개\n",
        "16. BatchNormalization\n",
        "17. 아웃풋 레이어\n",
        "--------------------------------------------------------------"
      ],
      "metadata": {
        "id": "W2-yhC-Qd5oz"
      }
    },
    {
      "cell_type": "code",
      "source": [
        "# Seqeuntial()\n",
        "\n",
        "# 세션 클리어\n",
        "clear_session()\n",
        "\n",
        "# 모델 선언\n",
        "model = Sequential()\n",
        "\n",
        "# 모델 블록 조립\n",
        "model.add(Input(shape=(28,28,1)))\n",
        "model.add(Conv2D(filters = 32,              # 새롭게 제적하려는 feature map의 수\n",
        "                 kernel_size = (3,3),       # 훝는 필터의 가로 세로 사이즈\n",
        "                 strides = (1,1),           # 필터가 훑기 이전 사이즈를 유지하려는 기법\n",
        "                 padding = 'same',          # 필터가 훓기 전 이전 사이즈로 유지하려는 기법\n",
        "                 activation = 'relu'))      # 주의!!!\n",
        "model.add(BatchNormalization())             \n",
        "model.add(Conv2D(filters = 32,              # 새롭게 제적하려는 feature map의 수\n",
        "                 kernel_size = (3,3),       # 훝는 필터의 가로 세로 사이즈\n",
        "                 strides = (1,1),           # 필터가 훑기 이전 사이즈를 유지하려는 기법\n",
        "                 padding = 'same',          # 필터가 훓기 전 이전 사이즈로 유지하려는 기법\n",
        "                 activation = 'relu'))      # 주의!!!\n",
        "model.add(BatchNormalization())\n",
        "model.add(MaxPool2D(pool_size = (2,2),      # pooling filter의 가로 세로 사이즈\n",
        "                    strides = (2,2)))       # pooling filter가 어떻게 이동할 것인지\n",
        "model.add(Dropout(0.25))\n",
        "\n",
        "model.add(Conv2D(filters = 64,\n",
        "                 kernel_size = (3,3),\n",
        "                 strides = (1,1), \n",
        "                 padding = 'same', \n",
        "                 activation = 'relu'))\n",
        "model.add(BatchNormalization())\n",
        "model.add(Conv2D(filters = 64,\n",
        "                 kernel_size = (3,3),\n",
        "                 strides = (1,1), \n",
        "                 padding = 'same', \n",
        "                 activation = 'relu'))\n",
        "model.add(BatchNormalization())\n",
        "model.add(MaxPool2D(pool_size = (2,2),      # pooling filter의 가로 세로 사이즈\n",
        "                    strides = (2,2)))       # pooling filter가 어떻게 이동할 것인지\n",
        "model.add(Dropout(0.25))\n",
        "\n",
        "\n",
        "model.add(Flatten())\n",
        "model.add(Dense(512, activation = 'relu'))\n",
        "model.add(BatchNormalization())\n",
        "model.add(Dense(train_y.shape[1], activation = 'softmax'))\n",
        "\n",
        "# cmompile\n",
        "model.compile(loss = keras.losses.categorical_crossentropy, metrics = ['accuracy'],\n",
        "             optimizer = 'adam')\n",
        "\n",
        "# 양념\n",
        "model.summary()"
      ],
      "metadata": {
        "colab": {
          "base_uri": "https://localhost:8080/"
        },
        "id": "NNkXL7P_d3V5",
        "outputId": "01a80079-1257-4be4-dac1-6eec47e3f9b1"
      },
      "execution_count": 9,
      "outputs": [
        {
          "output_type": "stream",
          "name": "stdout",
          "text": [
            "Model: \"sequential\"\n",
            "_________________________________________________________________\n",
            " Layer (type)                Output Shape              Param #   \n",
            "=================================================================\n",
            " conv2d (Conv2D)             (None, 28, 28, 32)        320       \n",
            "                                                                 \n",
            " batch_normalization (BatchN  (None, 28, 28, 32)       128       \n",
            " ormalization)                                                   \n",
            "                                                                 \n",
            " conv2d_1 (Conv2D)           (None, 28, 28, 32)        9248      \n",
            "                                                                 \n",
            " batch_normalization_1 (Batc  (None, 28, 28, 32)       128       \n",
            " hNormalization)                                                 \n",
            "                                                                 \n",
            " max_pooling2d (MaxPooling2D  (None, 14, 14, 32)       0         \n",
            " )                                                               \n",
            "                                                                 \n",
            " dropout (Dropout)           (None, 14, 14, 32)        0         \n",
            "                                                                 \n",
            " conv2d_2 (Conv2D)           (None, 14, 14, 64)        18496     \n",
            "                                                                 \n",
            " batch_normalization_2 (Batc  (None, 14, 14, 64)       256       \n",
            " hNormalization)                                                 \n",
            "                                                                 \n",
            " conv2d_3 (Conv2D)           (None, 14, 14, 64)        36928     \n",
            "                                                                 \n",
            " batch_normalization_3 (Batc  (None, 14, 14, 64)       256       \n",
            " hNormalization)                                                 \n",
            "                                                                 \n",
            " max_pooling2d_1 (MaxPooling  (None, 7, 7, 64)         0         \n",
            " 2D)                                                             \n",
            "                                                                 \n",
            " dropout_1 (Dropout)         (None, 7, 7, 64)          0         \n",
            "                                                                 \n",
            " flatten (Flatten)           (None, 3136)              0         \n",
            "                                                                 \n",
            " dense (Dense)               (None, 512)               1606144   \n",
            "                                                                 \n",
            " batch_normalization_4 (Batc  (None, 512)              2048      \n",
            " hNormalization)                                                 \n",
            "                                                                 \n",
            " dense_1 (Dense)             (None, 10)                5130      \n",
            "                                                                 \n",
            "=================================================================\n",
            "Total params: 1,679,082\n",
            "Trainable params: 1,677,674\n",
            "Non-trainable params: 1,408\n",
            "_________________________________________________________________\n"
          ]
        }
      ]
    },
    {
      "cell_type": "code",
      "source": [
        "from tensorflow.keras.callbacks import EarlyStopping\n",
        "es = EarlyStopping(monitor= 'val_loss',\n",
        "                   min_delta = 0,\n",
        "                   patience = 5,\n",
        "                   verbose = 1,\n",
        "                   restore_best_weights = True)"
      ],
      "metadata": {
        "id": "QG9UU7qqe4No"
      },
      "execution_count": 10,
      "outputs": []
    },
    {
      "cell_type": "code",
      "source": [
        "# 데이터를 넣어서 학습시키자!\n",
        "hist = model.fit(train_x, train_y, epochs=10000, batch_size=128,\n",
        "             validation_split=0.2, callbacks = [es], verbose=1)"
      ],
      "metadata": {
        "colab": {
          "base_uri": "https://localhost:8080/"
        },
        "id": "yBo8grf0fvee",
        "outputId": "cacf258d-fdab-4a92-cdb7-53dfd52cbb7b"
      },
      "execution_count": 11,
      "outputs": [
        {
          "output_type": "stream",
          "name": "stdout",
          "text": [
            "Epoch 1/10000\n",
            "375/375 [==============================] - 17s 8ms/step - loss: 0.4018 - accuracy: 0.8573 - val_loss: 2.2672 - val_accuracy: 0.4161\n",
            "Epoch 2/10000\n",
            "375/375 [==============================] - 3s 7ms/step - loss: 0.2679 - accuracy: 0.9022 - val_loss: 0.2955 - val_accuracy: 0.8910\n",
            "Epoch 3/10000\n",
            "375/375 [==============================] - 2s 7ms/step - loss: 0.2283 - accuracy: 0.9162 - val_loss: 0.2515 - val_accuracy: 0.9097\n",
            "Epoch 4/10000\n",
            "375/375 [==============================] - 3s 7ms/step - loss: 0.2043 - accuracy: 0.9250 - val_loss: 0.2041 - val_accuracy: 0.9273\n",
            "Epoch 5/10000\n",
            "375/375 [==============================] - 3s 7ms/step - loss: 0.1842 - accuracy: 0.9309 - val_loss: 0.2364 - val_accuracy: 0.9184\n",
            "Epoch 6/10000\n",
            "375/375 [==============================] - 2s 7ms/step - loss: 0.1685 - accuracy: 0.9386 - val_loss: 0.2015 - val_accuracy: 0.9275\n",
            "Epoch 7/10000\n",
            "375/375 [==============================] - 3s 7ms/step - loss: 0.1523 - accuracy: 0.9439 - val_loss: 0.1997 - val_accuracy: 0.9278\n",
            "Epoch 8/10000\n",
            "375/375 [==============================] - 2s 7ms/step - loss: 0.1419 - accuracy: 0.9472 - val_loss: 0.1975 - val_accuracy: 0.9298\n",
            "Epoch 9/10000\n",
            "375/375 [==============================] - 3s 7ms/step - loss: 0.1327 - accuracy: 0.9512 - val_loss: 0.2602 - val_accuracy: 0.9139\n",
            "Epoch 10/10000\n",
            "375/375 [==============================] - 3s 7ms/step - loss: 0.1201 - accuracy: 0.9558 - val_loss: 0.1977 - val_accuracy: 0.9350\n",
            "Epoch 11/10000\n",
            "375/375 [==============================] - 2s 7ms/step - loss: 0.1050 - accuracy: 0.9611 - val_loss: 0.2121 - val_accuracy: 0.9301\n",
            "Epoch 12/10000\n",
            "375/375 [==============================] - 2s 7ms/step - loss: 0.0972 - accuracy: 0.9637 - val_loss: 0.2247 - val_accuracy: 0.9273\n",
            "Epoch 13/10000\n",
            "368/375 [============================>.] - ETA: 0s - loss: 0.0892 - accuracy: 0.9665Restoring model weights from the end of the best epoch: 8.\n",
            "375/375 [==============================] - 3s 7ms/step - loss: 0.0892 - accuracy: 0.9665 - val_loss: 0.2255 - val_accuracy: 0.9273\n",
            "Epoch 13: early stopping\n"
          ]
        }
      ]
    },
    {
      "cell_type": "code",
      "source": [
        "model.evaluate(train_x, train_y)\n",
        "model.evaluate(test_x, test_y)"
      ],
      "metadata": {
        "colab": {
          "base_uri": "https://localhost:8080/"
        },
        "id": "e89trq-viuQ5",
        "outputId": "dcb6c392-f795-4f99-abfc-e10f829f8443"
      },
      "execution_count": 12,
      "outputs": [
        {
          "output_type": "stream",
          "name": "stdout",
          "text": [
            "1875/1875 [==============================] - 5s 3ms/step - loss: 0.1198 - accuracy: 0.9559\n",
            "313/313 [==============================] - 1s 3ms/step - loss: 0.2254 - accuracy: 0.9224\n"
          ]
        },
        {
          "output_type": "execute_result",
          "data": {
            "text/plain": [
              "[0.2253710925579071, 0.9223999977111816]"
            ]
          },
          "metadata": {},
          "execution_count": 12
        }
      ]
    },
    {
      "cell_type": "code",
      "source": [
        "plt.figure(figsize=(10, 5))\n",
        "plt.plot(hist.history['accuracy'])\n",
        "plt.plot(hist.history['val_accuracy'])\n",
        "plt.title('Accuracy : Training vs Validation')\n",
        "plt.ylabel('Accuracy')\n",
        "plt.xlabel('Epoch')\n",
        "plt.legend(['Training', 'Validation'], loc=0)\n",
        "plt.show()"
      ],
      "metadata": {
        "colab": {
          "base_uri": "https://localhost:8080/",
          "height": 350
        },
        "id": "E_QPgcBcBm4B",
        "outputId": "b7d84fe0-00c5-4140-9349-e5c813c0fda8"
      },
      "execution_count": 13,
      "outputs": [
        {
          "output_type": "display_data",
          "data": {
            "text/plain": [
              "<Figure size 720x360 with 1 Axes>"
            ],
            "image/png": "[encoded data removed]"
          },
          "metadata": {
            "needs_background": "light"
          }
        }
      ]
    },
    {
      "cell_type": "code",
      "source": [
        "plt.figure(figsize=(10, 5))\n",
        "plt.plot(hist.history['loss'])\n",
        "plt.plot(hist.history['val_loss'])\n",
        "plt.title('Loss : Training vs Validation')\n",
        "plt.ylabel('Loss')\n",
        "plt.xlabel('Epoch')\n",
        "plt.legend(['Training', 'Validation'], loc=0)\n",
        "plt.show()"
      ],
      "metadata": {
        "colab": {
          "base_uri": "https://localhost:8080/",
          "height": 350
        },
        "id": "z_-Ar9FdBnJB",
        "outputId": "3cad59bc-7a9e-49ab-e02f-4ac4c30d7cdb"
      },
      "execution_count": 14,
      "outputs": [
        {
          "output_type": "display_data",
          "data": {
            "text/plain": [
              "<Figure size 720x360 with 1 Axes>"
            ],
            "image/png": "[encoded data removed]"
          },
          "metadata": {
            "needs_background": "light"
          }
        }
      ]
    },
    {
      "cell_type": "code",
      "source": [
        "# Functioanl()\n",
        "\n",
        "# 세션 클리어\n",
        "clear_session()\n",
        "\n",
        "# layer 엮기\n",
        "il = Input(shape=(28,28,1))\n",
        "cl = Conv2D(filters = 32, \n",
        "                 kernel_size = (3,3),\n",
        "                 strides = (1,1), \n",
        "                 padding = 'same', \n",
        "                 activation = 'relu')(il)\n",
        "bl = BatchNormalization()(cl)\n",
        "cl = Conv2D(filters = 32, \n",
        "                 kernel_size = (3,3),\n",
        "                 strides = (1,1), \n",
        "                 padding = 'same', \n",
        "                 activation = 'relu')(bl)\n",
        "bl = BatchNormalization()(cl)\n",
        "pl = MaxPool2D(pool_size=(2,2),\n",
        "               strides = (2,2))(bl)\n",
        "dl = Dropout(0.25)(pl)\n",
        "\n",
        "\n",
        "cl = Conv2D(filters = 64, \n",
        "                 kernel_size = (3,3),\n",
        "                 strides = (1,1), \n",
        "                 padding = 'same', \n",
        "                 activation = 'relu')(dl)\n",
        "bl = BatchNormalization()(cl)\n",
        "cl = Conv2D(filters = 64, \n",
        "                 kernel_size = (3,3),\n",
        "                 strides = (1,1), \n",
        "                 padding = 'same', \n",
        "                 activation = 'relu')(bl)\n",
        "bl = BatchNormalization()(cl)\n",
        "pl = MaxPool2D(pool_size=(2,2),\n",
        "               strides = (2,2))(bl)\n",
        "dl = Dropout(0.25)(pl)\n",
        "\n",
        "fl = Flatten()(dl)\n",
        "hl = Dense(512, activation = 'relu')(fl)\n",
        "bl = BatchNormalization()(hl)\n",
        "ol = Dense(train_y.shape[1], activation = 'softmax')(bl)\n",
        "\n",
        "# 모델 처음 끝 지정\n",
        "model = Model(il, ol)\n",
        "\n",
        "# cmompile\n",
        "model.compile(loss = keras.losses.categorical_crossentropy, metrics = ['accuracy'],\n",
        "             optimizer = 'adam')\n",
        "\n",
        "# 양념\n",
        "model.summary()"
      ],
      "metadata": {
        "id": "ep_nW1zzBpRz",
        "colab": {
          "base_uri": "https://localhost:8080/"
        },
        "outputId": "d1ac61b4-ab56-48db-9889-cf174910b673"
      },
      "execution_count": 19,
      "outputs": [
        {
          "output_type": "stream",
          "name": "stdout",
          "text": [
            "Model: \"model\"\n",
            "_________________________________________________________________\n",
            " Layer (type)                Output Shape              Param #   \n",
            "=================================================================\n",
            " input_1 (InputLayer)        [(None, 28, 28, 1)]       0         \n",
            "                                                                 \n",
            " conv2d (Conv2D)             (None, 28, 28, 32)        320       \n",
            "                                                                 \n",
            " batch_normalization (BatchN  (None, 28, 28, 32)       128       \n",
            " ormalization)                                                   \n",
            "                                                                 \n",
            " conv2d_1 (Conv2D)           (None, 28, 28, 32)        9248      \n",
            "                                                                 \n",
            " batch_normalization_1 (Batc  (None, 28, 28, 32)       128       \n",
            " hNormalization)                                                 \n",
            "                                                                 \n",
            " max_pooling2d (MaxPooling2D  (None, 14, 14, 32)       0         \n",
            " )                                                               \n",
            "                                                                 \n",
            " dropout (Dropout)           (None, 14, 14, 32)        0         \n",
            "                                                                 \n",
            " conv2d_2 (Conv2D)           (None, 14, 14, 64)        18496     \n",
            "                                                                 \n",
            " batch_normalization_2 (Batc  (None, 14, 14, 64)       256       \n",
            " hNormalization)                                                 \n",
            "                                                                 \n",
            " conv2d_3 (Conv2D)           (None, 14, 14, 64)        36928     \n",
            "                                                                 \n",
            " batch_normalization_3 (Batc  (None, 14, 14, 64)       256       \n",
            " hNormalization)                                                 \n",
            "                                                                 \n",
            " max_pooling2d_1 (MaxPooling  (None, 7, 7, 64)         0         \n",
            " 2D)                                                             \n",
            "                                                                 \n",
            " dropout_1 (Dropout)         (None, 7, 7, 64)          0         \n",
            "                                                                 \n",
            " flatten (Flatten)           (None, 3136)              0         \n",
            "                                                                 \n",
            " dense (Dense)               (None, 512)               1606144   \n",
            "                                                                 \n",
            " batch_normalization_4 (Batc  (None, 512)              2048      \n",
            " hNormalization)                                                 \n",
            "                                                                 \n",
            " dense_1 (Dense)             (None, 10)                5130      \n",
            "                                                                 \n",
            "=================================================================\n",
            "Total params: 1,679,082\n",
            "Trainable params: 1,677,674\n",
            "Non-trainable params: 1,408\n",
            "_________________________________________________________________\n"
          ]
        }
      ]
    },
    {
      "cell_type": "code",
      "source": [
        "hist = model.fit(train_x, train_y, validation_split=0.2, \n",
        "                 batch_size = 128, epochs = 10000, callbacks = [es], verbose = 1)"
      ],
      "metadata": {
        "colab": {
          "base_uri": "https://localhost:8080/"
        },
        "id": "nRZFvbpjeWB4",
        "outputId": "d0de1e28-90c8-49bd-b290-2aa8a8886dc5"
      },
      "execution_count": 20,
      "outputs": [
        {
          "output_type": "stream",
          "name": "stdout",
          "text": [
            "Epoch 1/10000\n",
            "375/375 [==============================] - 6s 8ms/step - loss: 0.4054 - accuracy: 0.8549 - val_loss: 1.7425 - val_accuracy: 0.4817\n",
            "Epoch 2/10000\n",
            "375/375 [==============================] - 3s 7ms/step - loss: 0.2733 - accuracy: 0.9002 - val_loss: 0.2584 - val_accuracy: 0.9086\n",
            "Epoch 3/10000\n",
            "375/375 [==============================] - 3s 7ms/step - loss: 0.2298 - accuracy: 0.9146 - val_loss: 0.2424 - val_accuracy: 0.9103\n",
            "Epoch 4/10000\n",
            "375/375 [==============================] - 3s 7ms/step - loss: 0.2050 - accuracy: 0.9244 - val_loss: 0.2309 - val_accuracy: 0.9164\n",
            "Epoch 5/10000\n",
            "375/375 [==============================] - 2s 7ms/step - loss: 0.1854 - accuracy: 0.9320 - val_loss: 0.2227 - val_accuracy: 0.9192\n",
            "Epoch 6/10000\n",
            "375/375 [==============================] - 3s 7ms/step - loss: 0.1720 - accuracy: 0.9346 - val_loss: 0.2282 - val_accuracy: 0.9196\n",
            "Epoch 7/10000\n",
            "375/375 [==============================] - 3s 7ms/step - loss: 0.1546 - accuracy: 0.9430 - val_loss: 0.2387 - val_accuracy: 0.9168\n",
            "Epoch 8/10000\n",
            "375/375 [==============================] - 3s 7ms/step - loss: 0.1400 - accuracy: 0.9475 - val_loss: 0.2171 - val_accuracy: 0.9241\n",
            "Epoch 9/10000\n",
            "375/375 [==============================] - 3s 7ms/step - loss: 0.1267 - accuracy: 0.9534 - val_loss: 0.1943 - val_accuracy: 0.9310\n",
            "Epoch 10/10000\n",
            "375/375 [==============================] - 3s 8ms/step - loss: 0.1169 - accuracy: 0.9567 - val_loss: 0.2179 - val_accuracy: 0.9255\n",
            "Epoch 11/10000\n",
            "375/375 [==============================] - 3s 7ms/step - loss: 0.1046 - accuracy: 0.9612 - val_loss: 0.2270 - val_accuracy: 0.9230\n",
            "Epoch 12/10000\n",
            "375/375 [==============================] - 3s 7ms/step - loss: 0.0958 - accuracy: 0.9640 - val_loss: 0.2099 - val_accuracy: 0.9335\n",
            "Epoch 13/10000\n",
            "375/375 [==============================] - 3s 7ms/step - loss: 0.0895 - accuracy: 0.9662 - val_loss: 0.2078 - val_accuracy: 0.9302\n",
            "Epoch 14/10000\n",
            "373/375 [============================>.] - ETA: 0s - loss: 0.0732 - accuracy: 0.9734Restoring model weights from the end of the best epoch: 9.\n",
            "375/375 [==============================] - 3s 7ms/step - loss: 0.0734 - accuracy: 0.9733 - val_loss: 0.2201 - val_accuracy: 0.9317\n",
            "Epoch 14: early stopping\n"
          ]
        }
      ]
    },
    {
      "cell_type": "code",
      "source": [
        "plt.figure(figsize=(10, 5))\n",
        "plt.plot(hist.history['accuracy'])\n",
        "plt.plot(hist.history['val_accuracy'])\n",
        "plt.title('Accuracy : Training vs Validation')\n",
        "plt.ylabel('Accuracy')\n",
        "plt.xlabel('Epoch')\n",
        "plt.legend(['Training', 'Validation'], loc=0)\n",
        "plt.show()"
      ],
      "metadata": {
        "colab": {
          "base_uri": "https://localhost:8080/",
          "height": 350
        },
        "id": "LtSd86bgeYR9",
        "outputId": "478b714c-48a5-4f2b-d14c-7afba6001da5"
      },
      "execution_count": 21,
      "outputs": [
        {
          "output_type": "display_data",
          "data": {
            "text/plain": [
              "<Figure size 720x360 with 1 Axes>"
            ],
            "image/png": "[encoded data removed]"
          },
          "metadata": {
            "needs_background": "light"
          }
        }
      ]
    },
    {
      "cell_type": "code",
      "source": [
        "plt.figure(figsize=(10, 5))\n",
        "plt.plot(hist.history['loss'])\n",
        "plt.plot(hist.history['val_loss'])\n",
        "plt.title('Loss : Training vs Validation')\n",
        "plt.ylabel('Loss')\n",
        "plt.xlabel('Epoch')\n",
        "plt.legend(['Training', 'Validation'], loc=0)\n",
        "plt.show()"
      ],
      "metadata": {
        "colab": {
          "base_uri": "https://localhost:8080/",
          "height": 350
        },
        "id": "w4Vo08ZjeaNx",
        "outputId": "3f7691fe-b51f-45cc-e073-3ef6bc115f76"
      },
      "execution_count": 22,
      "outputs": [
        {
          "output_type": "display_data",
          "data": {
            "text/plain": [
              "<Figure size 720x360 with 1 Axes>"
            ],
            "image/png": "[encoded data removed]"
          },
          "metadata": {
            "needs_background": "light"
          }
        }
      ]
    },
    {
      "cell_type": "code",
      "source": [
        "model.evaluate(train_x, train_y)\n",
        "model.evaluate(test_x, test_y)"
      ],
      "metadata": {
        "colab": {
          "base_uri": "https://localhost:8080/"
        },
        "id": "mQDk0BWCfV1F",
        "outputId": "a69b6a68-5eff-4a12-fbd0-358be9e3235e"
      },
      "execution_count": 24,
      "outputs": [
        {
          "output_type": "stream",
          "name": "stdout",
          "text": [
            "1875/1875 [==============================] - 5s 3ms/step - loss: 0.1065 - accuracy: 0.9615\n",
            "313/313 [==============================] - 1s 3ms/step - loss: 0.2171 - accuracy: 0.9274\n"
          ]
        },
        {
          "output_type": "execute_result",
          "data": {
            "text/plain": [
              "[0.21712668240070343, 0.9273999929428101]"
            ]
          },
          "metadata": {},
          "execution_count": 24
        }
      ]
    },
    {
      "cell_type": "code",
      "source": [],
      "metadata": {
        "id": "xrwqXjpxfdU-"
      },
      "execution_count": null,
      "outputs": []
    }
  ]
}